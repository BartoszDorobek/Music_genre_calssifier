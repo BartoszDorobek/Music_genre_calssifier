{
 "cells": [
  {
   "cell_type": "markdown",
   "id": "d8bd0914-5b8a-4d99-923a-0343999def7e",
   "metadata": {},
   "source": [
    "# Loading the data"
   ]
  },
  {
   "cell_type": "code",
   "execution_count": 1,
   "id": "6c29730f-9d26-4ebc-9fa1-dafb386b75c8",
   "metadata": {},
   "outputs": [
    {
     "name": "stdout",
     "output_type": "stream",
     "text": [
      "Found 999 files belonging to 10 classes.\n",
      "Using 800 files for training.\n",
      "Found 999 files belonging to 10 classes.\n",
      "Using 199 files for validation.\n"
     ]
    }
   ],
   "source": [
    "from pathlib import Path\n",
    "\n",
    "DATA_PATH = Path('data/gtzan')\n",
    "\n",
    "from tensorflow.keras.preprocessing import image_dataset_from_directory\n",
    "\n",
    "def get_dataset(subset):\n",
    "    return image_dataset_from_directory(\n",
    "        directory=DATA_PATH/'images_original',\n",
    "        labels=\"inferred\",\n",
    "        label_mode=\"categorical\",\n",
    "        color_mode=\"rgb\",\n",
    "        batch_size=32,\n",
    "        image_size=(288, 432),\n",
    "        shuffle=True,\n",
    "        seed=7,\n",
    "        validation_split=0.2,\n",
    "        subset=subset,\n",
    "    )\n",
    "\n",
    "train_ds = get_dataset(subset=\"training\")\n",
    "val_ds = get_dataset(subset=\"validation\")\n"
   ]
  },
  {
   "cell_type": "code",
   "execution_count": 2,
   "id": "ab03c04f-2b34-4b18-9c8e-ff133bc8e908",
   "metadata": {},
   "outputs": [
    {
     "data": {
      "text/plain": [
       "[TensorShape([None, 288, 432, 3]), TensorShape([None, 10])]"
      ]
     },
     "execution_count": 2,
     "metadata": {},
     "output_type": "execute_result"
    }
   ],
   "source": [
    "train_ds._flat_shapes"
   ]
  },
  {
   "cell_type": "code",
   "execution_count": 46,
   "id": "53fdf764-a592-4156-847b-4784ef278b56",
   "metadata": {},
   "outputs": [],
   "source": [
    "from tensorflow.keras.layers import MaxPooling2D, Dropout, Conv2D, Flatten, Dense\n",
    "from tensorflow.keras import Sequential\n",
    "\n",
    "\n",
    "# model = Sequential(\n",
    "#     [\n",
    "#         Conv2D(32, (3, 3), padding=\"same\", activation=\"relu\", input_shape=(288, 432, 3)),\n",
    "#         Conv2D(32, (3, 3), activation=\"relu\"),\n",
    "#         MaxPooling2D(pool_size=(2, 2)),\n",
    "#         Dropout(0.25),\n",
    "#         Conv2D(64, (3, 3), padding=\"same\", activation=\"relu\"),\n",
    "#         Conv2D(64, (3, 3), activation=\"relu\"),\n",
    "#         MaxPooling2D(pool_size=(2, 2)),\n",
    "#         Dropout(0.25),\n",
    "#         Conv2D(64, (3, 3), padding=\"same\", activation=\"relu\"),\n",
    "#         Conv2D(64, (3, 3), activation=\"relu\"),\n",
    "#         MaxPooling2D(pool_size=(2, 2)),\n",
    "#         Dropout(0.25),\n",
    "#         Flatten(),\n",
    "#         Dense(512, activation=\"relu\"),\n",
    "#         Dropout(0.5),\n",
    "#         Dense(10, activation=\"softmax\"),\n",
    "#     ]\n",
    "# )\n",
    "\n",
    "model = Sequential([\n",
    "    #Note the input shape is the size of the image 300x300 with 3 bytes color\n",
    "    \n",
    "    Conv2D(16, (3,3), activation='relu', input_shape=(288, 432, 3)),\n",
    "    MaxPooling2D(2, 2),\n",
    "    \n",
    "    Conv2D(32, (3,3), activation='relu'),\n",
    "    MaxPooling2D(2,2),\n",
    "       \n",
    "    Conv2D(64, (3,3), activation='relu'),\n",
    "    MaxPooling2D(2,2),\n",
    "    \n",
    "    Conv2D(64, (3,3), activation='relu'),\n",
    "    MaxPooling2D(2,2),\n",
    "    \n",
    "    Conv2D(64, (3,3), activation='relu'),\n",
    "    MaxPooling2D(2,2),\n",
    "    \n",
    "    # Flatten the results to feed into a DNN\n",
    "    Flatten(),\n",
    "    \n",
    "    Dense(512, activation=\"relu\"),\n",
    "    Dropout(0.5),\n",
    "    Dense(10, activation=\"softmax\"),\n",
    "])"
   ]
  },
  {
   "cell_type": "code",
   "execution_count": 47,
   "id": "382b2169-9ab8-42dd-a69a-d835d848b1fe",
   "metadata": {},
   "outputs": [
    {
     "name": "stdout",
     "output_type": "stream",
     "text": [
      "Model: \"sequential_3\"\n",
      "_________________________________________________________________\n",
      " Layer (type)                Output Shape              Param #   \n",
      "=================================================================\n",
      " conv2d_16 (Conv2D)          (None, 286, 430, 16)      448       \n",
      "                                                                 \n",
      " max_pooling2d_13 (MaxPoolin  (None, 143, 215, 16)     0         \n",
      " g2D)                                                            \n",
      "                                                                 \n",
      " conv2d_17 (Conv2D)          (None, 141, 213, 32)      4640      \n",
      "                                                                 \n",
      " max_pooling2d_14 (MaxPoolin  (None, 70, 106, 32)      0         \n",
      " g2D)                                                            \n",
      "                                                                 \n",
      " conv2d_18 (Conv2D)          (None, 68, 104, 64)       18496     \n",
      "                                                                 \n",
      " max_pooling2d_15 (MaxPoolin  (None, 34, 52, 64)       0         \n",
      " g2D)                                                            \n",
      "                                                                 \n",
      " conv2d_19 (Conv2D)          (None, 32, 50, 64)        36928     \n",
      "                                                                 \n",
      " max_pooling2d_16 (MaxPoolin  (None, 16, 25, 64)       0         \n",
      " g2D)                                                            \n",
      "                                                                 \n",
      " conv2d_20 (Conv2D)          (None, 14, 23, 64)        36928     \n",
      "                                                                 \n",
      " max_pooling2d_17 (MaxPoolin  (None, 7, 11, 64)        0         \n",
      " g2D)                                                            \n",
      "                                                                 \n",
      " flatten_3 (Flatten)         (None, 4928)              0         \n",
      "                                                                 \n",
      " dense_8 (Dense)             (None, 512)               2523648   \n",
      "                                                                 \n",
      " dropout_4 (Dropout)         (None, 512)               0         \n",
      "                                                                 \n",
      " dense_9 (Dense)             (None, 10)                5130      \n",
      "                                                                 \n",
      "=================================================================\n",
      "Total params: 2,626,218\n",
      "Trainable params: 2,626,218\n",
      "Non-trainable params: 0\n",
      "_________________________________________________________________\n"
     ]
    }
   ],
   "source": [
    "epochs = 100\n",
    "model.compile(optimizer='rmsprop', loss='categorical_crossentropy', metrics=['accuracy'])\n",
    "model.summary()"
   ]
  },
  {
   "cell_type": "code",
   "execution_count": 44,
   "id": "244cc776-5cba-4ea0-8d02-4c41d6a0e684",
   "metadata": {},
   "outputs": [
    {
     "name": "stdout",
     "output_type": "stream",
     "text": [
      "PhysicalDevice(name='/physical_device:GPU:0', device_type='GPU')\n"
     ]
    }
   ],
   "source": [
    "# tf.config.experimental.set_memory_growth(physical_devices[0], True)\n",
    "import tensorflow as tf\n",
    "physical_devices = tf.config.list_physical_devices('GPU')\n",
    "print(physical_devices[0])"
   ]
  },
  {
   "cell_type": "code",
   "execution_count": 48,
   "id": "a66744b6-2997-4be4-a801-8d3b60360c1a",
   "metadata": {
    "collapsed": true,
    "jupyter": {
     "outputs_hidden": true
    },
    "tags": []
   },
   "outputs": [
    {
     "name": "stdout",
     "output_type": "stream",
     "text": [
      "Epoch 1/100\n",
      "25/25 - 9s - loss: 13.0546 - accuracy: 0.1887 - val_loss: 3.0945 - val_accuracy: 0.1055 - 9s/epoch - 341ms/step\n",
      "Epoch 2/100\n",
      "25/25 - 5s - loss: 2.3725 - accuracy: 0.1800 - val_loss: 2.0989 - val_accuracy: 0.2211 - 5s/epoch - 191ms/step\n",
      "Epoch 3/100\n",
      "25/25 - 5s - loss: 2.1581 - accuracy: 0.1900 - val_loss: 2.1343 - val_accuracy: 0.2412 - 5s/epoch - 189ms/step\n",
      "Epoch 4/100\n",
      "25/25 - 5s - loss: 2.1106 - accuracy: 0.2412 - val_loss: 2.1002 - val_accuracy: 0.2312 - 5s/epoch - 189ms/step\n",
      "Epoch 5/100\n",
      "25/25 - 5s - loss: 1.9318 - accuracy: 0.2675 - val_loss: 2.4766 - val_accuracy: 0.1457 - 5s/epoch - 189ms/step\n",
      "Epoch 6/100\n",
      "25/25 - 5s - loss: 2.1814 - accuracy: 0.3013 - val_loss: 2.0744 - val_accuracy: 0.2412 - 5s/epoch - 189ms/step\n",
      "Epoch 7/100\n",
      "25/25 - 5s - loss: 1.7351 - accuracy: 0.3837 - val_loss: 1.9477 - val_accuracy: 0.3518 - 5s/epoch - 188ms/step\n",
      "Epoch 8/100\n",
      "25/25 - 5s - loss: 1.5796 - accuracy: 0.4437 - val_loss: 3.2108 - val_accuracy: 0.1357 - 5s/epoch - 190ms/step\n",
      "Epoch 9/100\n",
      "25/25 - 5s - loss: 1.6064 - accuracy: 0.4737 - val_loss: 2.2210 - val_accuracy: 0.3518 - 5s/epoch - 199ms/step\n",
      "Epoch 10/100\n",
      "25/25 - 5s - loss: 1.1972 - accuracy: 0.5325 - val_loss: 1.9612 - val_accuracy: 0.3719 - 5s/epoch - 198ms/step\n",
      "Epoch 11/100\n",
      "25/25 - 5s - loss: 1.1397 - accuracy: 0.5900 - val_loss: 2.2373 - val_accuracy: 0.3819 - 5s/epoch - 194ms/step\n",
      "Epoch 12/100\n",
      "25/25 - 5s - loss: 0.9682 - accuracy: 0.6625 - val_loss: 2.3917 - val_accuracy: 0.4221 - 5s/epoch - 195ms/step\n",
      "Epoch 13/100\n",
      "25/25 - 5s - loss: 0.8105 - accuracy: 0.7287 - val_loss: 2.6502 - val_accuracy: 0.4673 - 5s/epoch - 193ms/step\n",
      "Epoch 14/100\n",
      "25/25 - 5s - loss: 0.7307 - accuracy: 0.7638 - val_loss: 2.4139 - val_accuracy: 0.3719 - 5s/epoch - 190ms/step\n",
      "Epoch 15/100\n",
      "25/25 - 5s - loss: 0.5568 - accuracy: 0.8213 - val_loss: 2.5640 - val_accuracy: 0.4724 - 5s/epoch - 191ms/step\n",
      "Epoch 16/100\n",
      "25/25 - 5s - loss: 0.5405 - accuracy: 0.8350 - val_loss: 2.8606 - val_accuracy: 0.4472 - 5s/epoch - 192ms/step\n",
      "Epoch 17/100\n",
      "25/25 - 5s - loss: 0.5038 - accuracy: 0.8687 - val_loss: 2.9981 - val_accuracy: 0.4472 - 5s/epoch - 192ms/step\n",
      "Epoch 18/100\n",
      "25/25 - 5s - loss: 0.2772 - accuracy: 0.9137 - val_loss: 3.6027 - val_accuracy: 0.4573 - 5s/epoch - 194ms/step\n",
      "Epoch 19/100\n",
      "25/25 - 5s - loss: 0.2288 - accuracy: 0.9237 - val_loss: 3.5298 - val_accuracy: 0.4774 - 5s/epoch - 189ms/step\n",
      "Epoch 20/100\n",
      "25/25 - 5s - loss: 0.2498 - accuracy: 0.9225 - val_loss: 5.7673 - val_accuracy: 0.3769 - 5s/epoch - 189ms/step\n",
      "Epoch 21/100\n",
      "25/25 - 5s - loss: 0.3668 - accuracy: 0.9050 - val_loss: 4.1074 - val_accuracy: 0.4322 - 5s/epoch - 189ms/step\n",
      "Epoch 22/100\n",
      "25/25 - 5s - loss: 0.1670 - accuracy: 0.9550 - val_loss: 4.2379 - val_accuracy: 0.4121 - 5s/epoch - 191ms/step\n",
      "Epoch 23/100\n",
      "25/25 - 5s - loss: 0.1268 - accuracy: 0.9588 - val_loss: 4.0749 - val_accuracy: 0.4372 - 5s/epoch - 192ms/step\n",
      "Epoch 24/100\n",
      "25/25 - 5s - loss: 0.2464 - accuracy: 0.9375 - val_loss: 4.4631 - val_accuracy: 0.4724 - 5s/epoch - 190ms/step\n",
      "Epoch 25/100\n",
      "25/25 - 5s - loss: 0.2148 - accuracy: 0.9550 - val_loss: 4.8959 - val_accuracy: 0.4422 - 5s/epoch - 191ms/step\n",
      "Epoch 26/100\n",
      "25/25 - 5s - loss: 0.1459 - accuracy: 0.9625 - val_loss: 5.0715 - val_accuracy: 0.4874 - 5s/epoch - 190ms/step\n",
      "Epoch 27/100\n",
      "25/25 - 5s - loss: 0.3111 - accuracy: 0.9463 - val_loss: 3.9884 - val_accuracy: 0.4774 - 5s/epoch - 190ms/step\n",
      "Epoch 28/100\n",
      "25/25 - 5s - loss: 0.1088 - accuracy: 0.9625 - val_loss: 4.1575 - val_accuracy: 0.4724 - 5s/epoch - 190ms/step\n",
      "Epoch 29/100\n",
      "25/25 - 5s - loss: 0.1212 - accuracy: 0.9725 - val_loss: 4.7287 - val_accuracy: 0.4874 - 5s/epoch - 190ms/step\n",
      "Epoch 30/100\n",
      "25/25 - 5s - loss: 0.2182 - accuracy: 0.9538 - val_loss: 5.3659 - val_accuracy: 0.4874 - 5s/epoch - 190ms/step\n",
      "Epoch 31/100\n",
      "25/25 - 5s - loss: 0.2362 - accuracy: 0.9588 - val_loss: 5.0297 - val_accuracy: 0.5276 - 5s/epoch - 190ms/step\n",
      "Epoch 32/100\n",
      "25/25 - 5s - loss: 0.0261 - accuracy: 0.9937 - val_loss: 6.8850 - val_accuracy: 0.4472 - 5s/epoch - 190ms/step\n",
      "Epoch 33/100\n",
      "25/25 - 5s - loss: 0.6324 - accuracy: 0.9425 - val_loss: 5.7789 - val_accuracy: 0.4221 - 5s/epoch - 192ms/step\n",
      "Epoch 34/100\n",
      "25/25 - 5s - loss: 0.1104 - accuracy: 0.9737 - val_loss: 5.5720 - val_accuracy: 0.4975 - 5s/epoch - 190ms/step\n",
      "Epoch 35/100\n",
      "25/25 - 5s - loss: 0.0169 - accuracy: 0.9962 - val_loss: 5.7571 - val_accuracy: 0.4925 - 5s/epoch - 191ms/step\n",
      "Epoch 36/100\n",
      "25/25 - 5s - loss: 0.1098 - accuracy: 0.9725 - val_loss: 8.1128 - val_accuracy: 0.4372 - 5s/epoch - 191ms/step\n",
      "Epoch 37/100\n",
      "25/25 - 5s - loss: 0.2154 - accuracy: 0.9388 - val_loss: 7.1594 - val_accuracy: 0.4573 - 5s/epoch - 191ms/step\n",
      "Epoch 38/100\n",
      "25/25 - 5s - loss: 0.0440 - accuracy: 0.9837 - val_loss: 6.7414 - val_accuracy: 0.4523 - 5s/epoch - 193ms/step\n",
      "Epoch 39/100\n",
      "25/25 - 5s - loss: 0.1762 - accuracy: 0.9588 - val_loss: 6.5649 - val_accuracy: 0.4673 - 5s/epoch - 191ms/step\n",
      "Epoch 40/100\n",
      "25/25 - 5s - loss: 0.0660 - accuracy: 0.9850 - val_loss: 6.7393 - val_accuracy: 0.4523 - 5s/epoch - 191ms/step\n"
     ]
    }
   ],
   "source": [
    "callback = tf.keras.callbacks.EarlyStopping(monitor='loss', patience=5)\n",
    "\n",
    "history = model.fit(\n",
    "    x=train_ds,\n",
    "    validation_data=val_ds,\n",
    "    epochs=epochs, \n",
    "    verbose=2,\n",
    "    callbacks=[callback]\n",
    ")"
   ]
  },
  {
   "cell_type": "code",
   "execution_count": 49,
   "id": "a9920608-06a1-4512-bf32-1874c4ed89d5",
   "metadata": {},
   "outputs": [
    {
     "data": {
      "image/png": "[encoded data removed]",
      "text/plain": [
       "<Figure size 432x288 with 1 Axes>"
      ]
     },
     "metadata": {
      "needs_background": "light"
     },
     "output_type": "display_data"
    }
   ],
   "source": [
    "results_cnn = pd.DataFrame(history.history).iloc[1:, :]\n",
    "results_cnn.loss.plot(label='loss')\n",
    "results_cnn.val_loss.plot(label='val_loss')\n",
    "plt.legend()\n",
    "plt.show()"
   ]
  },
  {
   "cell_type": "code",
   "execution_count": 50,
   "id": "2cf19008-8039-4b8b-aaaf-cee3eed03d7f",
   "metadata": {},
   "outputs": [
    {
     "data": {
      "image/png": "[encoded data removed]",
      "text/plain": [
       "<Figure size 432x288 with 1 Axes>"
      ]
     },
     "metadata": {
      "needs_background": "light"
     },
     "output_type": "display_data"
    }
   ],
   "source": [
    "results_cnn.accuracy.plot(label='accuracy')\n",
    "results_cnn.val_accuracy.plot(label='val_accuracy')\n",
    "plt.legend()\n",
    "plt.show()"
   ]
  },
  {
   "cell_type": "markdown",
   "id": "e4ee1b59-55f7-43e6-8474-dbc88bb1382d",
   "metadata": {},
   "source": [
    "# Beep "
   ]
  },
  {
   "cell_type": "code",
   "execution_count": 52,
   "id": "99e5b527-fc20-45db-bcfd-d6e2afd493cf",
   "metadata": {},
   "outputs": [],
   "source": [
    "import winsound\n",
    "frequency = 500  # Set Frequency To 2500 Hertz\n",
    "duration = 1000  # Set Duration To 1000 ms == 1 second\n",
    "winsound.Beep(frequency, duration)"
   ]
  }
 ],
 "metadata": {
  "kernelspec": {
   "display_name": "Python 3 (ipykernel)",
   "language": "python",
   "name": "python3"
  },
  "language_info": {
   "codemirror_mode": {
    "name": "ipython",
    "version": 3
   },
   "file_extension": ".py",
   "mimetype": "text/x-python",
   "name": "python",
   "nbconvert_exporter": "python",
   "pygments_lexer": "ipython3",
   "version": "3.7.12"
  }
 },
 "nbformat": 4,
 "nbformat_minor": 5
}
